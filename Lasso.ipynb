{
 "cells": [
  {
   "cell_type": "code",
   "execution_count": 1,
   "metadata": {},
   "outputs": [],
   "source": [
    "from sklearn.datasets import load_iris\n",
    "from sklearn.model_selection import train_test_split\n",
    "import numpy as np\n",
    "import operator\n",
    "import types"
   ]
  },
  {
   "cell_type": "code",
   "execution_count": 2,
   "metadata": {},
   "outputs": [],
   "source": [
    "import numpy as np\n",
    "from numpy import genfromtxt\n",
    "training = np.genfromtxt('trainingData.csv',delimiter=',')\n",
    "validation = np.genfromtxt('validationData.csv',delimiter=',')\n",
    "training = training[1:]\n",
    "validation = validation[1:]"
   ]
  },
  {
   "cell_type": "code",
   "execution_count": 3,
   "metadata": {},
   "outputs": [],
   "source": [
    "from sklearn.preprocessing import StandardScaler\n",
    "scaler = StandardScaler()\n",
    "Xf = np.asarray(training[:,:520])\n",
    "Xfv = np.asarray(validation[:,:520])\n",
    "Yf = np.transpose(np.array(training[:,523]))\n",
    "Yfv = np.transpose(np.array(validation[:,523]))\n",
    "#Yf = np.transpose(np.array([training[:,520],training[:,521]]))\n",
    "#Yfv = np.transpose(np.array([validation[:,520],validation[:,521]]))\n",
    "\n",
    "x_train,x_test,y_train,y_test = train_test_split(Xf,Yf,random_state=0)\n",
    "x_train1 = scaler.fit(x_train).transform(x_train)\n",
    "x_test1 = scaler.transform(x_test)"
   ]
  },
  {
   "cell_type": "code",
   "execution_count": 4,
   "metadata": {},
   "outputs": [
    {
     "data": {
      "text/plain": [
       "0.8292901571086883"
      ]
     },
     "execution_count": 4,
     "metadata": {},
     "output_type": "execute_result"
    }
   ],
   "source": [
    "from sklearn.linear_model import Lasso\n",
    "lasso = Lasso().fit(x_train,y_train)\n",
    "lasso.score(Xfv,Yfv)"
   ]
  },
  {
   "cell_type": "code",
   "execution_count": null,
   "metadata": {},
   "outputs": [],
   "source": []
  }
 ],
 "metadata": {
  "kernelspec": {
   "display_name": "Python 3",
   "language": "python",
   "name": "python3"
  },
  "language_info": {
   "codemirror_mode": {
    "name": "ipython",
    "version": 3
   },
   "file_extension": ".py",
   "mimetype": "text/x-python",
   "name": "python",
   "nbconvert_exporter": "python",
   "pygments_lexer": "ipython3",
   "version": "3.6.8"
  }
 },
 "nbformat": 4,
 "nbformat_minor": 2
}
