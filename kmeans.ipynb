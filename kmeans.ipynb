{
 "cells": [
  {
   "cell_type": "code",
   "execution_count": 1,
   "metadata": {},
   "outputs": [],
   "source": [
    "from sklearn.datasets import load_iris\n",
    "from sklearn.model_selection import train_test_split\n",
    "import numpy as np\n",
    "import operator\n",
    "import types"
   ]
  },
  {
   "cell_type": "code",
   "execution_count": 2,
   "metadata": {},
   "outputs": [],
   "source": [
    "import numpy as np\n",
    "from numpy import genfromtxt\n",
    "training = np.genfromtxt('trainingData.csv',delimiter=',')\n",
    "validation = np.genfromtxt('validationData.csv',delimiter=',')\n",
    "training = training[1:]\n",
    "validation = validation[1:]"
   ]
  },
  {
   "cell_type": "code",
   "execution_count": 3,
   "metadata": {},
   "outputs": [],
   "source": [
    "from sklearn.preprocessing import StandardScaler\n",
    "scaler = StandardScaler()\n",
    "Xf = np.asarray(training[:,:520])\n",
    "Xfv = np.asarray(validation[:,:520])\n",
    "Yf = np.transpose(np.array(training[:,523]))\n",
    "Yfv = np.transpose(np.array(validation[:,523]))\n",
    "#Yf = np.transpose(np.array([training[:,520],training[:,521]]))\n",
    "#Yfv = np.transpose(np.array([validation[:,520],validation[:,521]]))\n",
    "\n",
    "x_train,x_test,y_train,y_test = train_test_split(Xf,Yf,random_state=0)\n",
    "x_train1 = scaler.fit(x_train).transform(x_train)\n",
    "x_test1 = scaler.transform(x_test)"
   ]
  },
  {
   "cell_type": "code",
   "execution_count": 4,
   "metadata": {},
   "outputs": [],
   "source": [
    "import random\n",
    "def eud(test,train):\n",
    "    distance = 0\n",
    "    new = np.sum(np.square(np.subtract(test,train)))\n",
    "    new1 = np.sqrt(new)\n",
    "    return new1\n",
    "\n",
    "def kmeans(train,test,ytrain,ytest,k):\n",
    "    clus = []\n",
    "    random.seed(200)\n",
    "    for _ in range(k):\n",
    "        clus.append(random.choice(train))\n",
    "    lists = [[] for _ in range(k)]\n",
    "    c_old = np.zeros(len(clus))\n",
    "    error = 10\n",
    "    while error>= 0.00110:\n",
    "        new_clus = []\n",
    "        for i in train:\n",
    "            well = []\n",
    "            yell = []\n",
    "            for j in range(len(clus)):\n",
    "                dist = []\n",
    "                dist.append((eud(i,clus[j]),i))\n",
    "                well.append(dist)\n",
    "            l = min(well)\n",
    "            ind = well.index(l)\n",
    "            lists[ind].append(l[0][1])\n",
    "        #print(lists)\n",
    "        for i in range(len(clus)):\n",
    "            new_clus.append(centroids(lists[i]))\n",
    "        error = eud(new_clus,clus)\n",
    "        new_clus,clus = clus,new_clus\n",
    "    final = []\n",
    "    for i in train:\n",
    "        ab = []\n",
    "        for j in clus:\n",
    "            ab.append((eud(i,j),i))\n",
    "        li = min(ab)\n",
    "        indi = ab.index(li)\n",
    "        final.append(indi)\n",
    "    trainacc = np.mean(ytrain==final)\n",
    "    finalt = []\n",
    "    for i in test:\n",
    "        ab = []\n",
    "        for j in clus:\n",
    "            ab.append((eud(i,j),i))\n",
    "        li = min(ab)\n",
    "        indi = ab.index(li)\n",
    "        finalt.append(indi)\n",
    "    testacc = np.mean(ytest==finalt)\n",
    "    cdf = []\n",
    "    cdf.append(eud(ytest,finalt))\n",
    "    return (trainacc,testacc,error,finalt) \n",
    "    \n",
    "def centroids(arr):\n",
    "    lent = len(arr)\n",
    "    #print(lent)\n",
    "    yell = []\n",
    "    for i in range(len(arr[0])):\n",
    "        yell.append(0)\n",
    "    for i in arr:\n",
    "        yell += i\n",
    "    return np.divide(yell,lent)"
   ]
  },
  {
   "cell_type": "code",
   "execution_count": null,
   "metadata": {},
   "outputs": [],
   "source": [
    "kmeans(x_train,Xfv,y_train,Yfv,3)"
   ]
  }
 ],
 "metadata": {
  "kernelspec": {
   "display_name": "Python 3",
   "language": "python",
   "name": "python3"
  },
  "language_info": {
   "codemirror_mode": {
    "name": "ipython",
    "version": 3
   },
   "file_extension": ".py",
   "mimetype": "text/x-python",
   "name": "python",
   "nbconvert_exporter": "python",
   "pygments_lexer": "ipython3",
   "version": "3.6.8"
  }
 },
 "nbformat": 4,
 "nbformat_minor": 2
}
